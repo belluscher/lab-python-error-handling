{
 "cells": [
  {
   "cell_type": "markdown",
   "id": "25d7736c-ba17-4aff-b6bb-66eba20fbf4e",
   "metadata": {},
   "source": [
    "# Lab | Error Handling"
   ]
  },
  {
   "cell_type": "markdown",
   "id": "bc99b386-7508-47a0-bcdb-d969deaf6c8b",
   "metadata": {},
   "source": [
    "## Exercise: Error Handling for Managing Customer Orders\n",
    "\n",
    "The implementation of your code for managing customer orders assumes that the user will always enter a valid input. \n",
    "\n",
    "For example, we could modify the `initialize_inventory` function to include error handling.\n",
    "   - If the user enters an invalid quantity (e.g., a negative value or a non-numeric value), display an error message and ask them to re-enter the quantity for that product.\n",
    "   - Use a try-except block to handle the error and continue prompting the user until a valid quantity is entered.\n",
    "\n",
    "```python\n",
    "# Step 1: Define the function for initializing the inventory with error handling\n",
    "def initialize_inventory(products):\n",
    "    inventory = {}\n",
    "    for product in products:\n",
    "        valid_quantity = False\n",
    "        while not valid_quantity:\n",
    "            try:\n",
    "                quantity = int(input(f\"Enter the quantity of {product}s available: \"))\n",
    "                if quantity < 0:\n",
    "                    raise ValueError(\"Invalid quantity! Please enter a non-negative value.\")\n",
    "                valid_quantity = True\n",
    "            except ValueError as error:\n",
    "                print(f\"Error: {error}\")\n",
    "        inventory[product] = quantity\n",
    "    return inventory\n",
    "\n",
    "# Or, in another way:\n",
    "\n",
    "def initialize_inventory(products):\n",
    "    inventory = {}\n",
    "    for product in products:\n",
    "        valid_input = False\n",
    "        while not valid_input:\n",
    "            try:\n",
    "                quantity = int(input(f\"Enter the quantity of {product}s available: \"))\n",
    "                if quantity >= 0:\n",
    "                    inventory[product] = quantity\n",
    "                    valid_input = True\n",
    "                else:\n",
    "                    print(\"Quantity cannot be negative. Please enter a valid quantity.\")\n",
    "            except ValueError:\n",
    "                print(\"Invalid input. Please enter a valid quantity.\")\n",
    "    return inventory\n",
    "```\n",
    "\n",
    "Let's enhance your code by implementing error handling to handle invalid inputs.\n",
    "\n",
    "Follow the steps below to complete the exercise:\n",
    "\n",
    "2. Modify the `calculate_total_price` function to include error handling.\n",
    "   - If the user enters an invalid price (e.g., a negative value or a non-numeric value), display an error message and ask them to re-enter the price for that product.\n",
    "   - Use a try-except block to handle the error and continue prompting the user until a valid price is entered.\n",
    "\n",
    "3. Modify the `get_customer_orders` function to include error handling.\n",
    "   - If the user enters an invalid number of orders (e.g., a negative value or a non-numeric value), display an error message and ask them to re-enter the number of orders.\n",
    "   - If the user enters an invalid product name (e.g., a product name that is not in the inventory), or that doesn't have stock available, display an error message and ask them to re-enter the product name. *Hint: you will need to pass inventory as a parameter*\n",
    "   - Use a try-except block to handle the error and continue prompting the user until a valid product name is entered.\n",
    "\n",
    "4. Test your code by running the program and deliberately entering invalid quantities and product names. Make sure the error handling mechanism works as expected.\n"
   ]
  },
  {
   "cell_type": "code",
   "execution_count": 11,
   "id": "40f8413d",
   "metadata": {},
   "outputs": [
    {
     "name": "stdout",
     "output_type": "stream",
     "text": [
      "Enter the quantity of t-shirts available: 9\n",
      "Enter the quantity of mugs available: 9\n",
      "Enter the quantity of hats available: 9\n",
      "Enter the quantity of books available: 9\n",
      "Enter the quantity of keychains available: 9\n",
      "Enter the number of products in order 3\n",
      "What product do you want to buy?mug\n",
      "What product do you want to buy?hat\n",
      "What product do you want to buy?book\n"
     ]
    },
    {
     "ename": "KeyboardInterrupt",
     "evalue": "Interrupted by user",
     "output_type": "error",
     "traceback": [
      "\u001b[0;31m---------------------------------------------------------------------------\u001b[0m",
      "\u001b[0;31mKeyboardInterrupt\u001b[0m                         Traceback (most recent call last)",
      "Cell \u001b[0;32mIn[11], line 19\u001b[0m\n\u001b[1;32m     15\u001b[0m     update_inventory \u001b[38;5;241m=\u001b[39m {product : quantity  \u001b[38;5;28;01mfor\u001b[39;00m product, quantity \u001b[38;5;129;01min\u001b[39;00m update_inventory\u001b[38;5;241m.\u001b[39mitems() \u001b[38;5;28;01mif\u001b[39;00m quantity \u001b[38;5;241m>\u001b[39m \u001b[38;5;241m0\u001b[39m} \n\u001b[1;32m     16\u001b[0m     \u001b[38;5;28;01mreturn\u001b[39;00m update_inventory\n\u001b[0;32m---> 19\u001b[0m my_inventory \u001b[38;5;241m=\u001b[39m initialize_inventory(products)\n\u001b[1;32m     20\u001b[0m my_customer_order \u001b[38;5;241m=\u001b[39m get_customer_order\n\u001b[1;32m     22\u001b[0m updated_inventory \u001b[38;5;241m=\u001b[39m update_inventory(my_customer_order,my_inventory)\n",
      "Cell \u001b[0;32mIn[11], line 3\u001b[0m, in \u001b[0;36minitialize_inventory\u001b[0;34m(products)\u001b[0m\n\u001b[1;32m      2\u001b[0m \u001b[38;5;28;01mdef\u001b[39;00m \u001b[38;5;21minitialize_inventory\u001b[39m(products):\n\u001b[0;32m----> 3\u001b[0m     inventory \u001b[38;5;241m=\u001b[39m {product: \u001b[38;5;28mint\u001b[39m(\u001b[38;5;28minput\u001b[39m(\u001b[38;5;124mf\u001b[39m\u001b[38;5;124m\"\u001b[39m\u001b[38;5;124mEnter the quantity of \u001b[39m\u001b[38;5;132;01m{\u001b[39;00mproduct\u001b[38;5;132;01m}\u001b[39;00m\u001b[38;5;124ms available: \u001b[39m\u001b[38;5;124m\"\u001b[39m)) \u001b[38;5;28;01mfor\u001b[39;00m product \u001b[38;5;129;01min\u001b[39;00m products}\n\u001b[1;32m      4\u001b[0m     \u001b[38;5;28;01mreturn\u001b[39;00m inventory\n",
      "Cell \u001b[0;32mIn[11], line 3\u001b[0m, in \u001b[0;36m<dictcomp>\u001b[0;34m(.0)\u001b[0m\n\u001b[1;32m      2\u001b[0m \u001b[38;5;28;01mdef\u001b[39;00m \u001b[38;5;21minitialize_inventory\u001b[39m(products):\n\u001b[0;32m----> 3\u001b[0m     inventory \u001b[38;5;241m=\u001b[39m {product: \u001b[38;5;28mint\u001b[39m(\u001b[38;5;28minput\u001b[39m(\u001b[38;5;124mf\u001b[39m\u001b[38;5;124m\"\u001b[39m\u001b[38;5;124mEnter the quantity of \u001b[39m\u001b[38;5;132;01m{\u001b[39;00mproduct\u001b[38;5;132;01m}\u001b[39;00m\u001b[38;5;124ms available: \u001b[39m\u001b[38;5;124m\"\u001b[39m)) \u001b[38;5;28;01mfor\u001b[39;00m product \u001b[38;5;129;01min\u001b[39;00m products}\n\u001b[1;32m      4\u001b[0m     \u001b[38;5;28;01mreturn\u001b[39;00m inventory\n",
      "File \u001b[0;32m/opt/anaconda3/lib/python3.11/site-packages/ipykernel/kernelbase.py:1262\u001b[0m, in \u001b[0;36mKernel.raw_input\u001b[0;34m(self, prompt)\u001b[0m\n\u001b[1;32m   1260\u001b[0m     msg \u001b[38;5;241m=\u001b[39m \u001b[38;5;124m\"\u001b[39m\u001b[38;5;124mraw_input was called, but this frontend does not support input requests.\u001b[39m\u001b[38;5;124m\"\u001b[39m\n\u001b[1;32m   1261\u001b[0m     \u001b[38;5;28;01mraise\u001b[39;00m StdinNotImplementedError(msg)\n\u001b[0;32m-> 1262\u001b[0m \u001b[38;5;28;01mreturn\u001b[39;00m \u001b[38;5;28mself\u001b[39m\u001b[38;5;241m.\u001b[39m_input_request(\n\u001b[1;32m   1263\u001b[0m     \u001b[38;5;28mstr\u001b[39m(prompt),\n\u001b[1;32m   1264\u001b[0m     \u001b[38;5;28mself\u001b[39m\u001b[38;5;241m.\u001b[39m_parent_ident[\u001b[38;5;124m\"\u001b[39m\u001b[38;5;124mshell\u001b[39m\u001b[38;5;124m\"\u001b[39m],\n\u001b[1;32m   1265\u001b[0m     \u001b[38;5;28mself\u001b[39m\u001b[38;5;241m.\u001b[39mget_parent(\u001b[38;5;124m\"\u001b[39m\u001b[38;5;124mshell\u001b[39m\u001b[38;5;124m\"\u001b[39m),\n\u001b[1;32m   1266\u001b[0m     password\u001b[38;5;241m=\u001b[39m\u001b[38;5;28;01mFalse\u001b[39;00m,\n\u001b[1;32m   1267\u001b[0m )\n",
      "File \u001b[0;32m/opt/anaconda3/lib/python3.11/site-packages/ipykernel/kernelbase.py:1305\u001b[0m, in \u001b[0;36mKernel._input_request\u001b[0;34m(self, prompt, ident, parent, password)\u001b[0m\n\u001b[1;32m   1302\u001b[0m \u001b[38;5;28;01mexcept\u001b[39;00m \u001b[38;5;167;01mKeyboardInterrupt\u001b[39;00m:\n\u001b[1;32m   1303\u001b[0m     \u001b[38;5;66;03m# re-raise KeyboardInterrupt, to truncate traceback\u001b[39;00m\n\u001b[1;32m   1304\u001b[0m     msg \u001b[38;5;241m=\u001b[39m \u001b[38;5;124m\"\u001b[39m\u001b[38;5;124mInterrupted by user\u001b[39m\u001b[38;5;124m\"\u001b[39m\n\u001b[0;32m-> 1305\u001b[0m     \u001b[38;5;28;01mraise\u001b[39;00m \u001b[38;5;167;01mKeyboardInterrupt\u001b[39;00m(msg) \u001b[38;5;28;01mfrom\u001b[39;00m \u001b[38;5;28;01mNone\u001b[39;00m\n\u001b[1;32m   1306\u001b[0m \u001b[38;5;28;01mexcept\u001b[39;00m \u001b[38;5;167;01mException\u001b[39;00m:\n\u001b[1;32m   1307\u001b[0m     \u001b[38;5;28mself\u001b[39m\u001b[38;5;241m.\u001b[39mlog\u001b[38;5;241m.\u001b[39mwarning(\u001b[38;5;124m\"\u001b[39m\u001b[38;5;124mInvalid Message:\u001b[39m\u001b[38;5;124m\"\u001b[39m, exc_info\u001b[38;5;241m=\u001b[39m\u001b[38;5;28;01mTrue\u001b[39;00m)\n",
      "\u001b[0;31mKeyboardInterrupt\u001b[0m: Interrupted by user"
     ]
    }
   ],
   "source": [
    "products = [\"t-shirt\", \"mug\", \"hat\", \"book\", \"keychain\"]\n",
    "def initialize_inventory(products):\n",
    "    inventory = {product: int(input(f\"Enter the quantity of {product}s available: \")) for product in products}\n",
    "    return inventory\n",
    "inventory = initialize_inventory(products)\n",
    "\n",
    "def get_customer_orders():\n",
    "    num_order = int(input(\"Enter the number of products in order \"))\n",
    "    order = {input(\"What product do you want to buy?\") for i in range (num_order)}\n",
    "    return order\n",
    "get_customer_order = get_customer_orders()\n",
    "\n",
    "def update_inventory(customer_orders, inventory):\n",
    "    update_inventory = {product: inventory[product]-1 if product in customer_orders else inventory[product] for product in inventory}\n",
    "    update_inventory = {product : quantity  for product, quantity in update_inventory.items() if quantity > 0} \n",
    "    return update_inventory\n",
    "\n",
    "\n",
    "my_inventory = initialize_inventory(products)\n",
    "my_customer_order = get_customer_order\n",
    "\n",
    "updated_inventory = update_inventory(my_customer_order,my_inventory)\n"
   ]
  },
  {
   "cell_type": "code",
   "execution_count": 12,
   "id": "1c791229",
   "metadata": {},
   "outputs": [
    {
     "name": "stdout",
     "output_type": "stream",
     "text": [
      "What's the price of hat? u\n",
      "Error: invalid literal for int() with base 10: 'u'\n",
      "What's the price of hat? -20\n",
      "Error: Invalid price! Please enter a non-negative value.\n",
      "What's the price of hat? 10\n",
      "What's the price of mug? 30\n"
     ]
    },
    {
     "data": {
      "text/plain": [
       "'The total price of the order is €40'"
      ]
     },
     "execution_count": 12,
     "metadata": {},
     "output_type": "execute_result"
    }
   ],
   "source": [
    "#Modify the calculate_total_price function to include error handling.\n",
    "#If the user enters an invalid price (e.g., a negative value or a non-numeric value), display an error message and ask them to re-enter the price for that product.\n",
    "#Use a try-except block to handle the error and continue prompting the user until a valid price is entered.\n",
    "\n",
    "def total_price (my_customer_order):\n",
    "    total_price = 0\n",
    "    for product in my_customer_order:\n",
    "        while True:\n",
    "            try:\n",
    "                price = int(input(f\"What's the price of {product}? \"))\n",
    "                if price < 0 :\n",
    "                    raise ValueError(\"Invalid price! Please enter a non-negative value.\")\n",
    "                total_price += price\n",
    "                break\n",
    "            except ValueError as error:\n",
    "                print(f\"Error: {error}\")\n",
    "            \n",
    "    return f\"The total price of the order is €{total_price}\"\n",
    "\n",
    "total_price = total_price (my_customer_order)\n",
    "total_price"
   ]
  },
  {
   "cell_type": "code",
   "execution_count": 14,
   "id": "014924cd",
   "metadata": {},
   "outputs": [
    {
     "name": "stdout",
     "output_type": "stream",
     "text": [
      "Enter the number of products in order: p\n",
      "Error: invalid literal for int() with base 10: 'p'. Please enter a valid positive integer.\n",
      "Enter the number of products in order: -10\n",
      "Error: Number of orders must be a positive integer.. Please enter a valid positive integer.\n",
      "Enter the number of products in order: 2\n",
      "What product do you want to buy? mugs\n",
      "Error: Invalid product name or out of stock. Please enter a valid product name.\n",
      "What product do you want to buy? mug\n",
      "What product do you want to buy? hat\n"
     ]
    },
    {
     "data": {
      "text/plain": [
       "{'hat', 'mug'}"
      ]
     },
     "execution_count": 14,
     "metadata": {},
     "output_type": "execute_result"
    }
   ],
   "source": [
    "#Modify the get_customer_orders function to include error handling.\n",
    "\n",
    "#If the user enters an invalid number of orders (e.g., a negative value or a non-numeric value), display an error message and ask them to re-enter the number of orders.\n",
    "#If the user enters an invalid product name (e.g., a product name that is not in the inventory), or that doesn't have stock available, display an error message and ask them to re-enter the product name. Hint: you will need to pass inventory as a parameter\n",
    "#Use a try-except block to handle the error and continue prompting the user until a valid product name is entered.\n",
    "\n",
    "def get_customer_orders(inventory):\n",
    "    while True:\n",
    "        try:\n",
    "            num_order = int(input(\"Enter the number of products in order: \"))\n",
    "            if num_order <= 0:\n",
    "                raise ValueError(\"Number of orders must be a positive integer.\")\n",
    "            break  # Exit the loop if input is valid\n",
    "        except ValueError as ve:\n",
    "            print(f\"Error: {ve}. Please enter a valid positive integer.\")\n",
    "\n",
    "    order = set()  # Initialize an empty set to store order\n",
    "    for i in range(num_order):\n",
    "        while True:\n",
    "            product_name = input(\"What product do you want to buy? \").strip().lower()\n",
    "            if product_name not in inventory or inventory[product_name] == 0:\n",
    "                print(\"Error: Invalid product name or out of stock. Please enter a valid product name.\")\n",
    "            else:\n",
    "                order.add(product_name)  # Add valid product name to order\n",
    "                break  # Exit the loop if input is valid\n",
    "\n",
    "    return order\n",
    "\n",
    "get_customer_order = get_customer_orders(inventory)\n",
    "get_customer_order"
   ]
  },
  {
   "cell_type": "code",
   "execution_count": null,
   "id": "09989f2c",
   "metadata": {},
   "outputs": [],
   "source": [
    "# Test your code by running the program and deliberately entering invalid quantities and product names. Make sure the error handling mechanism works as expected."
   ]
  }
 ],
 "metadata": {
  "kernelspec": {
   "display_name": "Python 3 (ipykernel)",
   "language": "python",
   "name": "python3"
  },
  "language_info": {
   "codemirror_mode": {
    "name": "ipython",
    "version": 3
   },
   "file_extension": ".py",
   "mimetype": "text/x-python",
   "name": "python",
   "nbconvert_exporter": "python",
   "pygments_lexer": "ipython3",
   "version": "3.11.7"
  }
 },
 "nbformat": 4,
 "nbformat_minor": 5
}
